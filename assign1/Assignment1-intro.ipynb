{
 "cells": [
  {
   "cell_type": "markdown",
   "metadata": {},
   "source": [
    "## Columbia University\n",
    "### ECBM E4040 Neural Networks and Deep Learning. Fall 2024."
   ]
  },
  {
   "cell_type": "markdown",
   "metadata": {},
   "source": [
    "# Assignment 1"
   ]
  },
  {
   "cell_type": "markdown",
   "metadata": {},
   "source": [
    "This assignment consists of 4 tasks covering:\n",
    "1. Basic classification problems\n",
    "2. NumPy and Tensorflow implementations for multi-layer-perceptron (MLP)\n",
    "3. A dimension reduction technique (t-SNE)\n",
    "4. Non-programming questions\n",
    "\n",
    "<font color=\"red\"><strong>NOTE:</strong></font> For those who are not familiar with Python programming or machine learning, we suggest that you start the assignment as soon as possible.\n",
    "\n",
    "In this notebook, we provide the skeleton code. You need to fill in the <span style=\"color:red\"><strong>TODO</strong></span> sections with code, run them and capture the results within your copy of the notebook which includes the solutions. So pay attention to any <span style=\"color:red\"><strong>TODO</strong></span> sections."
   ]
  },
  {
   "cell_type": "markdown",
   "metadata": {},
   "source": [
    "## Task 1: Basic Classifiers (25%)\n",
    "\n",
    "Experiments with two conventional classification methods: Logistic Regression (LR) and Softmax."
   ]
  },
  {
   "cell_type": "markdown",
   "metadata": {},
   "source": [
    "## Task 2: MLP with NumPy (40%)\n",
    "\n",
    "In this task, you are going to create several multi-layer-perceptrons (MLPs) using NumPy. It is designed to help you understand how feedforward and backpropagation works."
   ]
  },
  {
   "cell_type": "markdown",
   "metadata": {},
   "source": [
    "## Task 3: MLP with Tensorflow (25%)\n",
    "\n",
    "In this task, you will create the same MLP networks that you created in Task 2, but with Tensorflow library. "
   ]
  },
  {
   "cell_type": "markdown",
   "metadata": {},
   "source": [
    "## Task 4: Questions (10%)\n",
    "\n",
    "In this task, you need to answer questions related to the programming tasks above and to some machine learning basics."
   ]
  },
  {
   "cell_type": "markdown",
   "metadata": {},
   "source": [
    "## Submission Requirements\n",
    "\n",
    "1. Results will be captured and saved by cell outputs of the Jupyter Notebook.\n",
    "2. For Task 2, save your best model as a `.pkl` file in the directory `./save_models/`.\n",
    "3. <span style=\"color:red\">Don't upload any dataset files!</span>\n",
    "   * Note: this can be managed through the `.gitignore` file."
   ]
  },
  {
   "cell_type": "markdown",
   "metadata": {},
   "source": []
  }
 ],
 "metadata": {
  "kernelspec": {
   "display_name": "Python 3",
   "language": "python",
   "name": "python3"
  },
  "language_info": {
   "codemirror_mode": {
    "name": "ipython",
    "version": 3
   },
   "file_extension": ".py",
   "mimetype": "text/x-python",
   "name": "python",
   "nbconvert_exporter": "python",
   "pygments_lexer": "ipython3",
   "version": "3.9.12"
  },
  "vscode": {
   "interpreter": {
    "hash": "b0fa6594d8f4cbf19f97940f81e996739fb7646882a419484c72d19e05852a7e"
   }
  }
 },
 "nbformat": 4,
 "nbformat_minor": 4
}
